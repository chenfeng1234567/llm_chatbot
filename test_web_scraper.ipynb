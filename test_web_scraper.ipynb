{
  "cells": [
    {
      "cell_type": "markdown",
      "metadata": {},
      "source": [
        "# Web Scraper Test for Retirement Community Website\n",
        "\n",
        "This notebook tests the web scraping functionality that retrieves information from the retirement community website.\n"
      ]
    },
    {
      "cell_type": "code",
      "execution_count": null,
      "metadata": {},
      "outputs": [],
      "source": [
        "# Import the web scraper module\n",
        "import sys\n",
        "sys.path.append('code')\n",
        "\n",
        "from web_scrapper import (\n",
        "    scrape_retirement_community_info,\n",
        "    format_scraped_content_for_prompt,\n",
        "    get_community_context,\n",
        "    web_link\n",
        ")\n",
        "\n",
        "import json\n",
        "from pprint import pprint"
      ]
    },
    {
      "cell_type": "code",
      "execution_count": 3,
      "metadata": {},
      "outputs": [
        {
          "name": "stdout",
          "output_type": "stream",
          "text": [
            "Scraping URL: https://a.mwapp.net/p/mweb_ws.v?id=82352517&c=82352665&n=Main\n",
            "\n",
            "Fetching data...\n",
            "\n",
            "❌ Error occurred: Request failed: HTTPSConnectionPool(host='a.mwapp.net', port=443): Max retries exceeded with url: /p/mweb_ws.v?id=82352517&c=82352665&n=Main (Caused by SSLError(SSLError(1, '[SSL: SSLV3_ALERT_HANDSHAKE_FAILURE] ssl/tls alert handshake failure (_ssl.c:1000)')))\n"
          ]
        }
      ],
      "source": [
        "print(f\"Scraping URL: {web_link}\")\n",
        "print(\"\\nFetching data...\")\n",
        "\n",
        "# Scrape the website\n",
        "scraped_data = scrape_retirement_community_info()\n",
        "\n",
        "# Check if there was an error\n",
        "if 'error' in scraped_data:\n",
        "    print(f\"\\n❌ Error occurred: {scraped_data['error']}\")\n",
        "else:\n",
        "    print(\"\\n✅ Successfully scraped the website!\")\n"
      ]
    },
    {
      "cell_type": "code",
      "execution_count": null,
      "metadata": {},
      "outputs": [],
      "source": [
        "# overview\n",
        "print(f\"\\n📅 Scraped at: {scraped_data['scraped_at']}\")\n",
        "print(f\"🌐 URL: {scraped_data['url']}\")\n",
        "print(f\"📄 Title: {scraped_data['title']}\")\n",
        "print(f\"\\n📊 Statistics:\")\n",
        "print(f\"  - Number of headings: {len(scraped_data['headings'])}\")\n",
        "print(f\"  - Number of links: {len(scraped_data['links'])}\")\n",
        "print(f\"  - Number of tables: {len(scraped_data['tables'])}\")\n",
        "print(f\"  - Total text length: {len(scraped_data['full_text'])} characters\")\n"
      ]
    },
    {
      "cell_type": "code",
      "execution_count": null,
      "metadata": {},
      "outputs": [],
      "source": [
        "print(scraped_data['full_text'][:1000])"
      ]
    },
    {
      "cell_type": "code",
      "execution_count": null,
      "metadata": {},
      "outputs": [],
      "source": [
        "formatted_content = format_scraped_content_for_prompt(scraped_data)\n",
        "print(formatted_content)"
      ]
    },
    {
      "cell_type": "code",
      "execution_count": null,
      "metadata": {},
      "outputs": [],
      "source": [
        "get_community_context()"
      ]
    }
  ],
  "metadata": {
    "kernelspec": {
      "display_name": "base",
      "language": "python",
      "name": "python3"
    },
    "language_info": {
      "codemirror_mode": {
        "name": "ipython",
        "version": 3
      },
      "file_extension": ".py",
      "mimetype": "text/x-python",
      "name": "python",
      "nbconvert_exporter": "python",
      "pygments_lexer": "ipython3",
      "version": "3.12.7"
    }
  },
  "nbformat": 4,
  "nbformat_minor": 2
}
